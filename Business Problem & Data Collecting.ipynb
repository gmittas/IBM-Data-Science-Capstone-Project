{
 "cells": [
  {
   "cell_type": "markdown",
   "metadata": {},
   "source": [
    "\n",
    "# My Capstone Project: Real Estate Rental Values & Venues Data Analysis of London"
   ]
  },
  {
   "cell_type": "markdown",
   "metadata": {},
   "source": [
    "![alt text](https://london.ac.uk/sites/default/files/styles/promo_large/public/2018-10/london-aerial-cityscape-river-thames_1.jpg?itok=BMaDUhjp)"
   ]
  },
  {
   "cell_type": "markdown",
   "metadata": {},
   "source": [
    "## Introduction"
   ]
  },
  {
   "cell_type": "markdown",
   "metadata": {},
   "source": [
    "This article was written as part of final capstone project for IBM Data Science Professional Certification in Coursera. \n",
    "This project deals with discussing the neighborhoods of London, capital of United Kingdom. It would specifically help individuals & investors planning to invest in real estate housing market, in terms of rental income and social venues attributes."
   ]
  },
  {
   "cell_type": "markdown",
   "metadata": {},
   "source": [
    "## Business Problem"
   ]
  },
  {
   "cell_type": "markdown",
   "metadata": {},
   "source": [
    "London is the capital and largest city of England and the United Kingdom. London has a diverse range of people and cultures, and more than 300 languages are spoken in the region.Its estimated mid-2018 municipal population (corresponding to Greater London) was roughly 9 million, which made it the third-most populous city in Europe.London accounts for 13.4% of the U.K. population.Greater London Built-up Area is the third-most populous in Europe, after Moscow and Paris, with 9,787,426 inhabitants at the 2011 census. London has some of the highest real estate prices in the world.As of 2015 the residential property in London is worth $2.2 trillion – same value as that of Brazil's annual GDP.The city has the highest property prices of any European city according to the Office for National Statistics and the European Office of Statistics.On average the price per square metre in central London is €24,252. This is higher than the property prices in other G8 European capital cities."
   ]
  },
  {
   "cell_type": "markdown",
   "metadata": {},
   "source": [
    "As from a local resident point of view we want to invest in such places were the housing rental values are low and the facilities(shops,restaurants,parks,Hotels, etc.) and social venues are nearby. Keeping above things in mind it is very difficult for an individual to find such place in such big city and gather this much information. When we consider all these problems, we can create a map and information chart where the real estate rental values index is placed on London and each district is clustered according to the venue density."
   ]
  },
  {
   "cell_type": "markdown",
   "metadata": {},
   "source": [
    "## Data Collection"
   ]
  },
  {
   "cell_type": "markdown",
   "metadata": {},
   "source": [
    "London has multiple neighborhoods. I found the List of areas of London with its boroughs and postal codes from Wikipedia (https://en.wikipedia.org/wiki/List_of_areas_of_London). \n",
    "\n",
    "In order to obtain the venue details in each neighborhood Foursquare API is used (https://developer.foursquare.com).\n",
    "\n",
    "For housing prices a website, where latest London house prices are available with postal codes distribution, is selected (https://propertydata.co.uk/cities/london).\n",
    "\n",
    "For chloropleth maps construction, a .geojson file of London is used. (https://joshuaboyd1.carto.com/tables/london_boroughs_proper/public)\n"
   ]
  },
  {
   "cell_type": "code",
   "execution_count": null,
   "metadata": {},
   "outputs": [],
   "source": []
  }
 ],
 "metadata": {
  "kernelspec": {
   "display_name": "Python 3",
   "language": "python",
   "name": "python3"
  },
  "language_info": {
   "codemirror_mode": {
    "name": "ipython",
    "version": 3
   },
   "file_extension": ".py",
   "mimetype": "text/x-python",
   "name": "python",
   "nbconvert_exporter": "python",
   "pygments_lexer": "ipython3",
   "version": "3.8.3"
  }
 },
 "nbformat": 4,
 "nbformat_minor": 4
}
